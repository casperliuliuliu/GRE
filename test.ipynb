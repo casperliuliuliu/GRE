{
 "cells": [
  {
   "cell_type": "code",
   "execution_count": 29,
   "metadata": {},
   "outputs": [],
   "source": [
    "import pandas as pd"
   ]
  },
  {
   "cell_type": "code",
   "execution_count": 30,
   "metadata": {},
   "outputs": [
    {
     "name": "stdout",
     "output_type": "stream",
     "text": [
      "    vocabulary    chinese\n",
      "0      acerbic    苦澀的；刻薄的\n",
      "1   exacerbate      加重；惡化\n",
      "2         acid         酸的\n",
      "3        acrid    辛辣的；刻薄的\n",
      "4  acrimonious  尖酸刻薄的；嚴厲的\n"
     ]
    }
   ],
   "source": [
    "df = pd.read_excel('mason2000.xlsx')\n",
    "print(df.head())"
   ]
  },
  {
   "cell_type": "code",
   "execution_count": 27,
   "metadata": {},
   "outputs": [],
   "source": [
    "import random\n",
    "\n",
    "def pick_random(number_list: list=[], num: int=5)->list:\n",
    "    # Check if the list has at least 5 unique elements\n",
    "    if len(number_list) >= num:\n",
    "        # Pick 5 random non-repeating numbers from the list\n",
    "        return random.sample(number_list, num)\n",
    "    else:\n",
    "        print(\"The list doesn't have enough unique elements.\")\n",
    "        return []\n",
    "\n"
   ]
  },
  {
   "cell_type": "code",
   "execution_count": 46,
   "metadata": {},
   "outputs": [],
   "source": [
    "number_list = list(range(1,df.shape[0]))\n",
    "\n",
    "def vocab(number_list, df):\n",
    "    return df.iloc[number_list].reset_index(drop=1)\n"
   ]
  },
  {
   "cell_type": "code",
   "execution_count": 52,
   "metadata": {},
   "outputs": [
    {
     "name": "stdout",
     "output_type": "stream",
     "text": [
      "[18, 52, 43, 19, 51]\n",
      "厭氧的；厭氧微生物\n",
      "從容漫步\n",
      "替代的；輪流的；交替的\n",
      "靈敏的；靈活的\n",
      "有敵意的；不和的\n",
      "1/5\n",
      "    vocabulary    chinese\n",
      "0      acerbic    苦澀的；刻薄的\n",
      "1   exacerbate      加重；惡化\n",
      "3        acrid    辛辣的；刻薄的\n",
      "4  acrimonious  尖酸刻薄的；嚴厲的\n"
     ]
    }
   ],
   "source": [
    "test_list = pick_random(number_list)\n",
    "print(test_list)\n",
    "test_df = vocab(test_list, df)\n",
    "score = 0\n",
    "wrong_ans = []\n",
    "for ii in range(test_df.shape[0]):\n",
    "    print(test_df['chinese'][ii])\n",
    "    ans = input('input:')\n",
    "    if ans == test_df['vocabulary'][ii]:\n",
    "        score+=1\n",
    "    else:\n",
    "        wrong_ans.append(ii)\n",
    "    # print(test_df.iloc[ii])\n",
    "print(f\"{score}/{test_df.shape[0]}\")\n",
    "print(df.iloc[wrong_ans])"
   ]
  },
  {
   "cell_type": "code",
   "execution_count": null,
   "metadata": {},
   "outputs": [],
   "source": []
  }
 ],
 "metadata": {
  "kernelspec": {
   "display_name": "base",
   "language": "python",
   "name": "python3"
  },
  "language_info": {
   "codemirror_mode": {
    "name": "ipython",
    "version": 3
   },
   "file_extension": ".py",
   "mimetype": "text/x-python",
   "name": "python",
   "nbconvert_exporter": "python",
   "pygments_lexer": "ipython3",
   "version": "3.10.11"
  },
  "orig_nbformat": 4
 },
 "nbformat": 4,
 "nbformat_minor": 2
}
