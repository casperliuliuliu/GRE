{
 "cells": [
  {
   "cell_type": "code",
   "execution_count": 3,
   "metadata": {},
   "outputs": [],
   "source": [
    "import pandas as pd"
   ]
  },
  {
   "cell_type": "code",
   "execution_count": 4,
   "metadata": {},
   "outputs": [
    {
     "name": "stdout",
     "output_type": "stream",
     "text": [
      "    vocabulary    chinese\n",
      "0      acerbic    苦澀的；刻薄的\n",
      "1   exacerbate      加重；惡化\n",
      "2         acid         酸的\n",
      "3        acrid    辛辣的；刻薄的\n",
      "4  acrimonious  尖酸刻薄的；嚴厲的\n"
     ]
    }
   ],
   "source": [
    "df = pd.read_excel('mason2000.xlsx')\n",
    "print(df.head())"
   ]
  },
  {
   "cell_type": "code",
   "execution_count": 5,
   "metadata": {},
   "outputs": [],
   "source": [
    "import random\n",
    "\n",
    "def pick_random(number_list: list=[], num: int=5)->list:\n",
    "    # Check if the list has at least 5 unique elements\n",
    "    if len(number_list) >= num:\n",
    "        # Pick 5 random non-repeating numbers from the list\n",
    "        return random.sample(number_list, num)\n",
    "    else:\n",
    "        print(\"The list doesn't have enough unique elements.\")\n",
    "        return []\n",
    "\n"
   ]
  },
  {
   "cell_type": "code",
   "execution_count": 6,
   "metadata": {},
   "outputs": [],
   "source": [
    "number_list = list(range(1,df.shape[0]))\n",
    "\n",
    "def vocab(number_list, df):\n",
    "    return df.iloc[number_list].reset_index(drop=1)\n"
   ]
  },
  {
   "cell_type": "code",
   "execution_count": 7,
   "metadata": {},
   "outputs": [
    {
     "name": "stdout",
     "output_type": "stream",
     "text": [
      "[46, 59, 35, 22, 43]\n",
      "和藹的；親切的\n",
      "蹣跚而行\n",
      "聯合；合併\n",
      "緊急的；要求多的\n",
      "替代的；輪流的；交替的\n",
      "0/5\n",
      "    vocabulary    chinese\n",
      "0      acerbic    苦澀的；刻薄的\n",
      "1   exacerbate      加重；惡化\n",
      "2         acid         酸的\n",
      "3        acrid    辛辣的；刻薄的\n",
      "4  acrimonious  尖酸刻薄的；嚴厲的\n"
     ]
    }
   ],
   "source": [
    "def spelling_test(number_list):\n",
    "    test_list = pick_random(number_list)\n",
    "    # print(test_list)\n",
    "    test_df = vocab(test_list, df)\n",
    "    score = 0\n",
    "    wrong_ans = []\n",
    "    for ii in range(test_df.shape[0]):\n",
    "        print(test_df['chinese'][ii])\n",
    "        ans = input('input:')\n",
    "        if ans == test_df['vocabulary'][ii]:\n",
    "            score+=1\n",
    "        else:\n",
    "            wrong_ans.append(ii)\n",
    "        # print(test_df.iloc[ii])\n",
    "    print(f\"{score}/{test_df.shape[0]}\")\n",
    "    print(df.iloc[wrong_ans])\n",
    "spelling_test(number_list)"
   ]
  },
  {
   "cell_type": "code",
   "execution_count": 14,
   "metadata": {},
   "outputs": [
    {
     "name": "stdout",
     "output_type": "stream",
     "text": [
      "[1, 2, 3, 4, 5, 6, 7, 8, 9, 10, 11, 12, 13, 14, 15, 16, 17, 18, 19, 20, 21, 22, 23, 24, 25, 26, 27, 28, 29, 30, 31, 32, 33, 34, 35, 36, 37, 38, 39, 40, 41, 42, 43, 44, 45, 46, 47, 48, 49, 50, 51, 52, 53, 54, 55, 56, 57, 58, 59, 60, 61, 62, 63, 64, 65, 66, 67, 68, 69]\n"
     ]
    }
   ],
   "source": [
    "print(number_list)"
   ]
  },
  {
   "cell_type": "code",
   "execution_count": 32,
   "metadata": {},
   "outputs": [
    {
     "name": "stdout",
     "output_type": "stream",
     "text": [
      "[10, 57, 19, 64, 28]\n",
      "  vocabulary  chinese\n",
      "0      enact       制定\n",
      "1     ramble    閒逛；漫步\n",
      "2      agile  靈敏的；靈活的\n",
      "3  rectangle      長方形\n",
      "4  pedagogic     教育學的\n",
      "\n",
      "[ enact ]\n",
      "0.疏離；疏遠\n",
      "1.制定\n",
      "2.緊急的；要求多的\n",
      "3.鎮痛劑；止痛的\n",
      "1 1\n",
      "\n",
      "[ ramble ]\n",
      "0.巡行於；勘查\n",
      "1.疏離；疏遠\n",
      "2.抵銷\n",
      "3.閒逛；漫步\n",
      "3 3\n",
      "\n",
      "[ agile ]\n",
      "0.厭氧的；厭氧微生物\n",
      "1.敏銳\n",
      "2.靈敏的；靈活的\n",
      "3.教育學的\n",
      "2 2\n",
      "\n",
      "[ rectangle ]\n",
      "0.極大的痛苦\n",
      "1.長方形\n",
      "2.激動的；不安的\n",
      "3.靈敏的；靈活的\n",
      "0 1\n",
      "\n",
      "[ pedagogic ]\n",
      "0.酸的\n",
      "1.敏銳\n",
      "2.讚揚；歌頌\n",
      "3.教育學的\n",
      "1 3\n",
      "YOUR SCORE: [ 3/5 ]\n"
     ]
    }
   ],
   "source": [
    "# def selection_test():\n",
    "test_list = pick_random(number_list)\n",
    "print(test_list)\n",
    "test_df = vocab(test_list, df)\n",
    "score = 0\n",
    "ans = []\n",
    "ans_list = []\n",
    "print(test_df)\n",
    "for ii in range(test_df.shape[0]):\n",
    "    print(f\"\\n[ {test_df['vocabulary'][ii]} ]\")\n",
    "    without_list = list(range(1,test_list[ii])) + list(range(test_list[ii]+1,df.shape[0]))\n",
    "    random_list = pick_random(without_list,3)\n",
    "    random_list.append(test_list[ii])\n",
    "    random.shuffle(random_list)\n",
    "    ans_list.append(random_list.index(test_list[ii]))\n",
    "    # print(random_list)\n",
    "    for jj in range(4):\n",
    "\n",
    "        word = df['chinese'][random_list[jj]]\n",
    "        print(f\"{jj}.{word}\")\n",
    "    ans.append(input(\"輸入選項：\"))\n",
    "    if int(ans[ii]) == ans_list[ii]:\n",
    "        score += 1\n",
    "    print(ans[ii], ans_list[ii])\n",
    "\n",
    "print(f\"YOUR SCORE: [ {score}/{test_df.shape[0]} ]\")\n",
    "\n",
    "    \n",
    "\n",
    "    "
   ]
  },
  {
   "cell_type": "code",
   "execution_count": null,
   "metadata": {},
   "outputs": [],
   "source": []
  },
  {
   "cell_type": "code",
   "execution_count": 26,
   "metadata": {},
   "outputs": [
    {
     "name": "stdout",
     "output_type": "stream",
     "text": [
      "The index of 30 is 2\n"
     ]
    }
   ],
   "source": [
    "# Sample list\n",
    "my_list = [10, 20, 30, 40, 50]\n",
    "\n",
    "# Value to find\n",
    "value_to_find = 30\n",
    "\n",
    "# Find the index of the value in the list\n",
    "index = my_list.index(value_to_find)\n",
    "\n",
    "print(f\"The index of {value_to_find} is {index}\")\n"
   ]
  },
  {
   "cell_type": "code",
   "execution_count": 9,
   "metadata": {},
   "outputs": [],
   "source": [
    "import google.generativeai as palm\n",
    "import os\n",
    "import sys\n",
    "sys.path.append('/Users/liushiwen/Desktop/github')\n",
    "\n",
    "# Now you can import the file\n",
    "# import your_module\n",
    "from config import get_config \n",
    "# print(get_config())\n",
    "config = get_config()\n",
    "palm.configure(api_key=config[\"PALM_API_KEY\"])\n"
   ]
  },
  {
   "cell_type": "code",
   "execution_count": 11,
   "metadata": {},
   "outputs": [
    {
     "name": "stdout",
     "output_type": "stream",
     "text": [
      "A moon is a natural satellite that orbits a planet or smaller body. The Earth has one moon, which is called the Moon. The Moon is the fifth largest moon in the Solar System and the largest among planetary satellites relative to the size of the planet that it orbits (its primary). The Moon is thought to have formed about 4.51 billion years ago, not long after Earth. The most widely accepted explanation is that the Moon formed from the debris left over after a giant impact between Earth and a Mars-sized body called Theia.\n",
      "\n",
      "The Moon has a diameter of 3,474 km (2,159 mi), which is about one-fourth the diameter of Earth. The Moon's surface is covered in craters, which were formed by impacts from asteroids and comets. The Moon has no atmosphere, so there is no wind or erosion to erase the craters. The Moon's surface is also very dry, with no liquid water.\n",
      "\n",
      "The Moon's gravity is about one-sixth of Earth's gravity. This means that if you weigh 100 pounds on Earth, you would weigh about 16 pounds on the Moon. The Moon's lower gravity makes it easier to jump higher and walk further.\n",
      "\n",
      "The Moon's orbit around Earth takes about 27.3 days. The Moon's rotation on its axis is also about 27.3 days, which means that the same side of the Moon always faces Earth. This is called synchronous rotation.\n",
      "\n",
      "The Moon has a significant effect on Earth. The Moon's gravity helps to stabilize Earth's orbit around the Sun and it also causes the tides. The tides are the rise and fall of sea levels that are caused by the Moon's gravity.\n",
      "\n",
      "The Moon is a beautiful and mysterious object. It has been the subject of much study and speculation for centuries. The Moon is a reminder of the vastness of space and the importance of our planet.\n"
     ]
    }
   ],
   "source": [
    "\n",
    "defaults = {\n",
    "'model': 'models/chat-bison-001',\n",
    "'temperature': 0.25,\n",
    "'candidate_count': 1,\n",
    "'top_k': 40,\n",
    "'top_p': 0.95,\n",
    "}\n",
    "context = \"\"\n",
    "examples = []\n",
    "messages = [\n",
    "\"what is earth\",\n",
    "\"Earth is the third planet from the Sun and the only astronomical object known to harbor life. According to radiometric dating and other evidence, Earth formed about 4.54 billion years ago, not long after the Sun. Earth is the densest planet in the Solar System and the largest of the four terrestrial planets. It is also the only planet known to have an atmosphere composed primarily of oxygen. The atmosphere protects life on Earth by absorbing ultraviolet solar radiation, warming the surface through greenhouse effect, and reducing temperature extremes between day and night.\\n\\nThe surface of Earth is mostly covered by water, which is why it is often called the \\\"blue planet\\\". The continents and other landmasses are located on the Earth's crust, which is divided into several tectonic plates that move slowly over time. The Earth's interior is composed of a solid inner core, a liquid outer core, and a mantle. The inner core is made of solid iron and nickel, while the outer core is made of liquid iron and nickel. The mantle is made of silicate rocks.\\n\\nEarth's climate is affected by the Sun, the atmosphere, and the oceans. The Sun provides Earth with energy, which drives the Earth's climate system. The atmosphere traps heat from the Sun, which warms the Earth's surface. The oceans absorb and release heat, which helps to regulate the Earth's climate.\\n\\nEarth is home to a wide variety of life, including plants, animals, and microorganisms. Life on Earth is thought to have originated about 3.8 billion years ago. The evolution of life on Earth has led to the development of complex organisms, such as humans.\\n\\nEarth is a beautiful and complex planet. It is the only home we have, and it is important to take care of it.\"\n",
    "]\n",
    "messages.append(\"What is a moon?\")\n",
    "response = palm.chat(\n",
    "**defaults,\n",
    "context=context,\n",
    "examples=examples,\n",
    "messages=messages\n",
    ")\n",
    "print(response.last) # Response of the AI to your most recent request"
   ]
  }
 ],
 "metadata": {
  "kernelspec": {
   "display_name": "base",
   "language": "python",
   "name": "python3"
  },
  "language_info": {
   "codemirror_mode": {
    "name": "ipython",
    "version": 3
   },
   "file_extension": ".py",
   "mimetype": "text/x-python",
   "name": "python",
   "nbconvert_exporter": "python",
   "pygments_lexer": "ipython3",
   "version": "3.9.17"
  },
  "orig_nbformat": 4
 },
 "nbformat": 4,
 "nbformat_minor": 2
}
